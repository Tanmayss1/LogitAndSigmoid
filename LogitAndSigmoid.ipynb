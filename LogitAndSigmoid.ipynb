{
 "cells": [
  {
   "cell_type": "markdown",
   "metadata": {},
   "source": [
    "First We'll Import Random Packages"
   ]
  },
  {
   "cell_type": "code",
   "execution_count": 1,
   "metadata": {},
   "outputs": [],
   "source": [
    "import pandas as pd\n",
    "import numpy as np"
   ]
  },
  {
   "cell_type": "markdown",
   "metadata": {},
   "source": [
    "Next, we'll generate a list of random real numbers."
   ]
  },
  {
   "cell_type": "code",
   "execution_count": 33,
   "metadata": {},
   "outputs": [],
   "source": [
    "np.random.seed(50)"
   ]
  },
  {
   "cell_type": "code",
   "execution_count": 34,
   "metadata": {},
   "outputs": [
    {
     "data": {
      "text/plain": [
       "array([-0.10796709, -5.43833791, -4.89052152, -2.07340181, -2.45369805,\n",
       "        9.9314846 , -1.83605599,  5.4378799 ,  5.21073376, -3.79981303,\n",
       "       -3.06917591, -2.96470365, -7.09066287,  9.45329369,  8.18356876])"
      ]
     },
     "execution_count": 34,
     "metadata": {},
     "output_type": "execute_result"
    }
   ],
   "source": [
    "real_values= np.random.uniform(-10,10, size=(15))\n",
    "real_values"
   ]
  },
  {
   "cell_type": "markdown",
   "metadata": {},
   "source": [
    "Now, We'll Write a function to calculate the Sigmoid value for each real number."
   ]
  },
  {
   "cell_type": "code",
   "execution_count": 35,
   "metadata": {},
   "outputs": [],
   "source": [
    "def sigmoid(value):\n",
    "    return 1 / (1 + np.exp(-1*value))"
   ]
  },
  {
   "cell_type": "markdown",
   "metadata": {},
   "source": [
    "Now, we'll use the Sigmoid function to calculate sigmoid value for all the generated real numbers."
   ]
  },
  {
   "cell_type": "code",
   "execution_count": 36,
   "metadata": {},
   "outputs": [],
   "source": [
    "sigmoid_values = [ sigmoid(value) for value in real_values]"
   ]
  },
  {
   "cell_type": "markdown",
   "metadata": {},
   "source": [
    "Finally,We'll print the real number and Sigmoid value of the real number together."
   ]
  },
  {
   "cell_type": "code",
   "execution_count": 37,
   "metadata": {},
   "outputs": [
    {
     "name": "stdout",
     "output_type": "stream",
     "text": [
      "Input: -0.10796708923957077  --   Sigmoid Function Output: 0.47303441717709377\n",
      "Input: -5.438337911013276  --   Sigmoid Function Output: 0.004327889828576673\n",
      "Input: -4.890521524855773  --   Sigmoid Function Output: 0.00746140973460058\n",
      "Input: -2.073401805544462  --   Sigmoid Function Output: 0.11170903082831335\n",
      "Input: -2.4536980461775197  --   Sigmoid Function Output: 0.07916853846213084\n",
      "Input: 9.931484603092986  --   Sigmoid Function Output: 0.9999513828020065\n",
      "Input: -1.8360559933360587  --   Sigmoid Function Output: 0.1375184113474934\n",
      "Input: 5.437879896794271  --   Sigmoid Function Output: 0.9956701360671022\n",
      "Input: 5.2107337601776855  --   Sigmoid Function Output: 0.9945719568562718\n",
      "Input: -3.799813026293359  --   Sigmoid Function Output: 0.021885272995074017\n",
      "Input: -3.069175908746054  --   Sigmoid Function Output: 0.04439677711610712\n",
      "Input: -2.964703650068752  --   Sigmoid Function Output: 0.04904615894746017\n",
      "Input: -7.0906628700769  --   Sigmoid Function Output: 0.0008321520607081901\n",
      "Input: 9.453293694349007  --   Sigmoid Function Output: 0.999921575338654\n",
      "Input: 8.183568759849802  --   Sigmoid Function Output: 0.9997208741840674\n"
     ]
    }
   ],
   "source": [
    "for value, sig in zip(real_values, sigmoid_values):\n",
    "    print('Input: ' + str(value) + '  --  ', 'Sigmoid Function Output: ' + str(sig))"
   ]
  },
  {
   "cell_type": "markdown",
   "metadata": {},
   "source": [
    "Sigmoid values are always between [0,1]."
   ]
  },
  {
   "cell_type": "code",
   "execution_count": null,
   "metadata": {},
   "outputs": [],
   "source": []
  }
 ],
 "metadata": {
  "kernelspec": {
   "display_name": "base",
   "language": "python",
   "name": "python3"
  },
  "language_info": {
   "codemirror_mode": {
    "name": "ipython",
    "version": 3
   },
   "file_extension": ".py",
   "mimetype": "text/x-python",
   "name": "python",
   "nbconvert_exporter": "python",
   "pygments_lexer": "ipython3",
   "version": "3.9.12"
  },
  "orig_nbformat": 4
 },
 "nbformat": 4,
 "nbformat_minor": 2
}
